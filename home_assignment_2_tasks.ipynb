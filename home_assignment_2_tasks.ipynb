{
  "cells": [
    {
      "cell_type": "markdown",
      "id": "c295abce",
      "metadata": {
        "id": "c295abce"
      },
      "source": [
        "# Home Assignment 2 (30 points)\n",
        "\n",
        "Submit your solutions in teams of 5 students. Unless explicitly agreed otherwise in advance, **submissions from teams with more or less members will NOT be graded**.\n",
        "List all members of the team with their student ID in the cell below, and submit only one notebook per team. Only submit a notebook, do not submit the dataset(s) you used. Also, do NOT compress/zip your submission (incorrect submissions get 0 points)!\n",
        "\n",
        "You may use the code from the exercises and basic functionalities that are explained in official documentation of Python packages without citing, __all other sources must be cited__. In case of plagiarism (copying solutions from other teams or from the internet) ALL team members may be expelled from the course without warning.\n",
        "\n",
        "#### General guidelines:\n",
        "* Make sure that your code is executable, any task for which the code does not directly run on our machine will be graded with 0 points. We use the conda environment given below.\n",
        "* If you use packages that are not available on the default or conda-forge channel, list them below. Also add a link to installation instructions.\n",
        "* Demonstrate that your code works by providing outputs for test inputs or with simple unit tests (`assert actual == expected`).\n",
        "* Ensure that the notebook does not rely on the current notebook or system state!\n",
        "  * Use `Kernel --> Restart & Run All` to see if you are using any definitions, variables etc. that\n",
        "    are not in scope anymore.\n",
        "  * Do not rename any of the datasets you use, and load it from the same directory that your ipynb-notebook is located in, i.e., your working directory.\n",
        "* Make sure you clean up your code before submission, e.g., properly align your code, and delete every line of code that you do not need anymore, even if you may have experimented with it. Minimize usage of global variables. Avoid reusing variable names multiple times!\n",
        "* Ensure your code/notebook terminates in reasonable time.\n",
        "* Feel free to use comments in the code. While we do not require them to get full marks, they may help us in case your code has minor errors.\n",
        "* For questions that require a textual answer, please do not write the answer as a comment in a code cell, but in a Markdown cell below the code. Always remember to provide sufficient justification for all answers.\n",
        "* You may create as many additional cells as you want, just make sure that the solutions to the individual tasks can be found near the corresponding assignment.\n",
        "* If you have any general question regarding the understanding of some task, do not hesitate to post on Slack, so we can clear up such questions for all students in the course.\n",
        "\n",
        "\n",
        "Conda environment used for grading:\n",
        "\n",
        "```yml\n",
        "name: nlp-ss2024\n",
        "channels:\n",
        "  - defaults\n",
        "dependencies:\n",
        "  - python=3.11\n",
        "  - pip\n",
        "  - pip:\n",
        "    - numpy==1.26.4\n",
        "    - nltk==3.8.1\n",
        "    - scikit-learn==1.4.2\n",
        "    - scipy==1.13.0\n",
        "    - notebook\n",
        "```\n",
        "\n",
        "\n",
        "### AI Disclosure\n",
        "\n",
        "Did you use any AI assistance to complete this homework? If so, please also specify what AI you used.\n",
        "   - [ ] Yes, we used the following assistants: ....\n",
        "   - [ ] No\n",
        "\n",
        "---\n",
        "*(only complete the below questions if you answered yes above)*\n",
        "\n",
        "* If you used a large language model to assist you, please paste *all* of the prompts that you used below. Add a separate bullet for each prompt, and specify which problem is associated with which prompt.\n",
        "    * *your response here*\n",
        "* **Free response**: For each problem for which you used assistance, describe your overall experience with the AI. How helpful was it? Did it just directly give you a good answer, or did you have to edit it? Was its output ever obviously wrong or irrelevant? Did you use it to get the answer or check your own answer?\n",
        "    * *your response here*"
      ]
    },
    {
      "cell_type": "code",
      "execution_count": 13,
      "id": "29e66e9f",
      "metadata": {
        "id": "29e66e9f"
      },
      "outputs": [],
      "source": [
        "# UMR Usernames of all group members (<Username>@students.uni-marburg.de)\n",
        "team_members = [\n",
        "    \"Verma@students.uni-marburg.de\",\n",
        "    \"Shukla@students.uni-marburg.de\",\n",
        "    \"Mahmudas@uni-marburg.de\",\n",
        "    \"Sisodiya@uni-marburg.de\",\n",
        "    \"Samjacob@uni-marburg.de\"\n",
        "]"
      ]
    },
    {
      "cell_type": "markdown",
      "id": "d7a19c09",
      "metadata": {
        "id": "d7a19c09"
      },
      "source": [
        "Additional packages (if any):\n",
        " - Example: `powerlaw`, https://github.com/jeffalstott/powerlaw"
      ]
    },
    {
      "cell_type": "code",
      "execution_count": 14,
      "id": "7c5e2d05",
      "metadata": {
        "id": "7c5e2d05"
      },
      "outputs": [],
      "source": [
        "from typing import List, Union, Dict, Set, Tuple, Sequence\n",
        "from numpy.typing import NDArray"
      ]
    },
    {
      "cell_type": "markdown",
      "id": "91edf14c",
      "metadata": {
        "id": "91edf14c"
      },
      "source": [
        "### Task 1: WordNet word similarity\n",
        "\n",
        "In this task, we want to implement the similarity between two words in WordNet (https://www.nltk.org/api/nltk.corpus.reader.wordnet.html) using the NLTK package. The word similarity between two words is given by\n",
        "$$\n",
        "\\frac{1}{1+d}\n",
        "$$\n",
        "where $d$ is the distance of the shortest path in the hypernym/hyponym hierarchy tree in WordNet between any pair of synsets that are associated with the two input words.\n",
        "\n",
        "From NLTK you should __only__ use the `synsets`, `hypernyms` and `instance_hpyernyms` functions.\n",
        "\n",
        "The following subtasks build on each other, i.e. the functions of the preceding subtasks can be used for the current subtask.\n",
        "\n",
        "_Note: the distance of a synset to itself is 0, the distance to a direct hypernym is 1, ..._"
      ]
    },
    {
      "cell_type": "code",
      "execution_count": 15,
      "id": "7f2b0d09",
      "metadata": {
        "colab": {
          "base_uri": "https://localhost:8080/"
        },
        "id": "7f2b0d09",
        "outputId": "776e4546-95d8-4aff-fae0-896a5597fb7c"
      },
      "outputs": [
        {
          "output_type": "stream",
          "name": "stderr",
          "text": [
            "[nltk_data] Downloading package wordnet to /root/nltk_data...\n",
            "[nltk_data]   Package wordnet is already up-to-date!\n"
          ]
        },
        {
          "output_type": "execute_result",
          "data": {
            "text/plain": [
              "True"
            ]
          },
          "metadata": {},
          "execution_count": 15
        }
      ],
      "source": [
        "from nltk.corpus import wordnet as wn\n",
        "from nltk.corpus.reader.wordnet import Synset\n",
        "from collections import deque\n",
        "import nltk\n",
        "nltk.download('wordnet')"
      ]
    },
    {
      "cell_type": "markdown",
      "id": "f3a6c82f",
      "metadata": {
        "id": "f3a6c82f"
      },
      "source": [
        "__a)__ Write a function ``shortest_paths_to`` that takes a synset as input and computes the shortest paths to all nodes on the way to the root in the hypernym hierarchy tree of WordNet. The function should return a dictionary that matches all visited hypernyms on the way(s) to the root to the distance of the shortest path from the input synset. Consider that a synset might have multiple paths to the root and that some nodes might appear in multiple paths. However, we only want to store the shortest distances. Moreover, keep in mind that the input synset might be an instance.\n",
        "\n",
        "Use the signature in the cell below.\n",
        "\n",
        "__Example:__ _Calling_ ``shortest_paths_to(s)`` _on the synset_ ``s = wn.synset('calculator.n.01')`` _should yield the following result:_\n",
        "\n",
        "``\n",
        "{Synset('calculator.n.01'): 0,\n",
        " Synset('expert.n.01'): 1,\n",
        " Synset('person.n.01'): 2,\n",
        " Synset('causal_agent.n.01'): 3,\n",
        " Synset('organism.n.01'): 3,\n",
        " Synset('physical_entity.n.01'): 4,\n",
        " Synset('living_thing.n.01'): 4,\n",
        " Synset('entity.n.01'): 5,\n",
        " Synset('whole.n.02'): 5,\n",
        " Synset('object.n.01'): 6}\n",
        "``"
      ]
    },
    {
      "cell_type": "code",
      "execution_count": 16,
      "id": "c9d66e04",
      "metadata": {
        "id": "c9d66e04",
        "colab": {
          "base_uri": "https://localhost:8080/"
        },
        "outputId": "5a9a89c4-09fe-4544-c6c8-e64fb0cb69c8"
      },
      "outputs": [
        {
          "output_type": "execute_result",
          "data": {
            "text/plain": [
              "{Synset('calculator.n.01'): 0,\n",
              " Synset('expert.n.01'): 1,\n",
              " Synset('person.n.01'): 2,\n",
              " Synset('organism.n.01'): 3,\n",
              " Synset('causal_agent.n.01'): 3,\n",
              " Synset('living_thing.n.01'): 4,\n",
              " Synset('physical_entity.n.01'): 4,\n",
              " Synset('whole.n.02'): 5,\n",
              " Synset('entity.n.01'): 5,\n",
              " Synset('object.n.01'): 6}"
            ]
          },
          "metadata": {},
          "execution_count": 16
        }
      ],
      "source": [
        "def shortest_paths_to(start_syn: Synset) -> Dict[Synset, int]:\n",
        "    \"\"\"Compute the shortest distance to all nodes on paths to the root.\n",
        "    :param start_syn: synset to which we want to compute the shortest distances\n",
        "    :return: dict that matches all visited hypernyms to their distance to the input synset\n",
        "    \"\"\"\n",
        "    # your code here\n",
        "    shortest_paths = {start_syn: 0}\n",
        "    # Queue for BFS\n",
        "    queue = deque([start_syn])\n",
        "\n",
        "    while queue:\n",
        "        current_synset = queue.popleft()\n",
        "        current_distance = shortest_paths[current_synset]\n",
        "\n",
        "        # Getting all neighboring synsets\n",
        "        neighbors = set(current_synset.hypernyms() + current_synset.instance_hypernyms())\n",
        "\n",
        "        for neighbor in neighbors:\n",
        "            if neighbor not in shortest_paths:\n",
        "                shortest_paths[neighbor] = current_distance + 1\n",
        "                queue.append(neighbor)\n",
        "\n",
        "    return shortest_paths\n",
        "\n",
        "test1 = wn.synset('calculator.n.01')\n",
        "shortest_paths_to(test1)\n"
      ]
    },
    {
      "cell_type": "markdown",
      "id": "3fda6f14",
      "metadata": {
        "id": "3fda6f14"
      },
      "source": [
        "__b)__ Write a function ``merge_paths`` that gets two dictionaries that map synsets to shortest distances (you can assume they were created by the function from __a)__) and merges them. The function shold return a dictionary that includes all synsets and distances that appear in any of the input dictionaries. If a synset appears in both input dictionaries, we want to keep the shorter distance. Leave the input dictionaries unaltered.\n",
        "\n",
        "Use the signature in the cell below."
      ]
    },
    {
      "cell_type": "code",
      "execution_count": 17,
      "id": "41ffe524",
      "metadata": {
        "id": "41ffe524",
        "colab": {
          "base_uri": "https://localhost:8080/"
        },
        "outputId": "9340e749-0d23-456a-c45f-b7e1048f676b"
      },
      "outputs": [
        {
          "output_type": "stream",
          "name": "stdout",
          "text": [
            "------Dictionary 1----------\n",
            "\n",
            "{Synset('calculator.n.01'): 0, Synset('expert.n.01'): 1, Synset('person.n.01'): 2, Synset('organism.n.01'): 3, Synset('causal_agent.n.01'): 3, Synset('living_thing.n.01'): 4, Synset('physical_entity.n.01'): 4, Synset('whole.n.02'): 5, Synset('entity.n.01'): 5, Synset('object.n.01'): 6}\n",
            "\n",
            "------Dictionary 2----------\n",
            "\n",
            "{Synset('expert.n.01'): 0, Synset('person.n.01'): 1, Synset('organism.n.01'): 2, Synset('causal_agent.n.01'): 2, Synset('living_thing.n.01'): 3, Synset('physical_entity.n.01'): 3, Synset('whole.n.02'): 4, Synset('entity.n.01'): 4, Synset('object.n.01'): 5}\n",
            "\n",
            "------Merged Dictionary----------\n",
            "\n",
            "{Synset('calculator.n.01'): 0, Synset('expert.n.01'): 0, Synset('person.n.01'): 1, Synset('organism.n.01'): 2, Synset('causal_agent.n.01'): 2, Synset('living_thing.n.01'): 3, Synset('physical_entity.n.01'): 3, Synset('whole.n.02'): 4, Synset('entity.n.01'): 4, Synset('object.n.01'): 5}\n"
          ]
        }
      ],
      "source": [
        "def merge_paths(p1: Dict[Synset, int], p2: Dict[Synset, int]) -> Dict[Synset, int]:\n",
        "    \"\"\"Merge two paths keeping the shorter distance for synsets that appear more than once.\n",
        "    :param p1: first dict that maps synsets to their shortest distances\n",
        "    :param p2: second dict that maps synsets to their shortest distances\n",
        "    :return: merged dict\n",
        "    \"\"\"\n",
        "    # your code here\n",
        "\n",
        "     # making a copy to make p1 unaltered\n",
        "    merged_paths = p1.copy()\n",
        "\n",
        "    for synset, distance in p2.items():\n",
        "        if synset in merged_paths:\n",
        "            # keeping the shorter distance if the sysnet is in both dictionaries\n",
        "            merged_paths[synset] = min(merged_paths[synset], distance)\n",
        "        else:\n",
        "            # else adding the synset and its distance from the second dictionary\n",
        "            merged_paths[synset] = distance\n",
        "\n",
        "    return merged_paths\n",
        "\n",
        "# setting up another input for testing\n",
        "test2 = wn.synset('expert.n.01')\n",
        "\n",
        "# testing the function\n",
        "p1 = shortest_paths_to(test1)\n",
        "p2 = shortest_paths_to(test2)\n",
        "merged = merge_paths(p1, p2)\n",
        "print(\"------Dictionary 1----------\\n\")\n",
        "print(p1)\n",
        "print(\"\\n------Dictionary 2----------\\n\")\n",
        "print(p2)\n",
        "print(\"\\n------Merged Dictionary----------\\n\")\n",
        "print(merged)"
      ]
    },
    {
      "cell_type": "markdown",
      "id": "ade7ce46",
      "metadata": {
        "id": "ade7ce46"
      },
      "source": [
        "__c)__ Write a function ``all_hypernym_paths`` that gets a word as input and returns a dictionary that maps all hypernyms that are reachable from the set of synsets associated with the word to the shortest distance leading there.\n",
        "\n",
        "Use the signature in the cell below."
      ]
    },
    {
      "cell_type": "code",
      "execution_count": 18,
      "id": "13112dc7",
      "metadata": {
        "id": "13112dc7",
        "colab": {
          "base_uri": "https://localhost:8080/"
        },
        "outputId": "8f3cbd6e-13cc-4941-9322-dbb9aad91bfc"
      },
      "outputs": [
        {
          "output_type": "stream",
          "name": "stdout",
          "text": [
            "------Word: Trigonometry-----------------\n",
            "\n",
            "{Synset('trigonometry.n.01'): 0, Synset('pure_mathematics.n.01'): 1, Synset('mathematics.n.01'): 2, Synset('science.n.01'): 3, Synset('discipline.n.01'): 4, Synset('knowledge_domain.n.01'): 5, Synset('content.n.05'): 6, Synset('cognition.n.01'): 7, Synset('psychological_feature.n.01'): 8, Synset('abstraction.n.06'): 9, Synset('entity.n.01'): 10}\n",
            "\n",
            "------Word: Piano-----------------\n",
            "\n",
            "{Synset('piano.n.01'): 0, Synset('stringed_instrument.n.01'): 1, Synset('percussion_instrument.n.01'): 1, Synset('keyboard_instrument.n.01'): 1, Synset('musical_instrument.n.01'): 2, Synset('device.n.01'): 3, Synset('instrumentality.n.03'): 4, Synset('artifact.n.01'): 5, Synset('whole.n.02'): 6, Synset('object.n.01'): 7, Synset('physical_entity.n.01'): 8, Synset('entity.n.01'): 6, Synset('piano.n.02'): 0, Synset('softness.n.05'): 1, Synset('sound_property.n.01'): 2, Synset('property.n.02'): 3, Synset('attribute.n.02'): 4, Synset('abstraction.n.06'): 5, Synset('piano.a.01'): 0, Synset('piano.r.01'): 0}\n",
            "\n",
            "------Word: Pizza-----------------\n",
            "\n",
            "{Synset('pizza.n.01'): 0, Synset('dish.n.02'): 1, Synset('nutriment.n.01'): 2, Synset('food.n.01'): 3, Synset('substance.n.07'): 4, Synset('matter.n.03'): 5, Synset('physical_entity.n.01'): 6, Synset('entity.n.01'): 7}\n"
          ]
        }
      ],
      "source": [
        "def all_hypernym_paths(word: str) -> Dict[Synset, int]:\n",
        "    \"\"\"Get all hypernyms of all synsets associated with the input word and compute the shortest distance leading there.\n",
        "    :param word: input word\n",
        "    :return: dict that matches all reachable hypernyms to their shortest distance\n",
        "    \"\"\"\n",
        "    # your code here\n",
        "    synsets = wn.synsets(word)\n",
        "    all_paths = {}\n",
        "\n",
        "    for synset in synsets:\n",
        "        paths = shortest_paths_to(synset)\n",
        "        all_paths = merge_paths(all_paths, paths)\n",
        "\n",
        "    return all_paths\n",
        "\n",
        "# Testing the function with different words\n",
        "word1 = 'trigonometry'\n",
        "word2 = 'piano'\n",
        "word3 = 'pizza'\n",
        "\n",
        "print(\"------Word: Trigonometry-----------------\\n\")\n",
        "print(all_hypernym_paths(word1))\n",
        "\n",
        "print(\"\\n------Word: Piano-----------------\\n\")\n",
        "print(all_hypernym_paths(word2))\n",
        "\n",
        "print(\"\\n------Word: Pizza-----------------\\n\")\n",
        "print(all_hypernym_paths(word3))"
      ]
    },
    {
      "cell_type": "markdown",
      "id": "49270f8b",
      "metadata": {
        "id": "49270f8b"
      },
      "source": [
        "__d)__  Write a function ``get_dist`` that returns the word similarity between two input words, according to the formula given in the task description at the beginning.  \n",
        "\n",
        "Use the signature in the cell below."
      ]
    },
    {
      "cell_type": "code",
      "execution_count": 19,
      "id": "b0a4e8dc",
      "metadata": {
        "id": "b0a4e8dc",
        "colab": {
          "base_uri": "https://localhost:8080/"
        },
        "outputId": "1558d3a3-1dea-4457-cb47-c3a55ec38d4e"
      },
      "outputs": [
        {
          "output_type": "stream",
          "name": "stdout",
          "text": [
            "Similarity between GEOMETRY and MATHEMATICS is:  0.3333333333333333\n",
            "Similarity between LAPTOP and COMPUTER is: 0.2\n",
            "Similarity between SEA and OCEAN is:  1.0\n",
            "Similarity between CAT and DOG is:  0.0\n"
          ]
        }
      ],
      "source": [
        "def get_dist(w1 : str, w2 : str) -> float:\n",
        "    \"\"\"Compute the similarity between two input words in the WordNet hierarchy tree.\n",
        "    :param w1: first input word\n",
        "    :param w2: second input word\n",
        "    :return: word similarity\n",
        "    \"\"\"\n",
        "    # your code here\n",
        "    synsets1 = wn.synsets(w1)\n",
        "    synsets2 = wn.synsets(w2)\n",
        "\n",
        "    if not synsets1 or not synsets2:\n",
        "        return 0.0  # If either word has no synsets\n",
        "\n",
        "    min_distance = float('inf')\n",
        "\n",
        "    for synset1 in synsets1:\n",
        "        paths = shortest_paths_to(synset1)\n",
        "\n",
        "        for synset2 in synsets2:\n",
        "            if synset2 in paths:\n",
        "                min_distance = min(min_distance, paths[synset2])\n",
        "\n",
        "    if min_distance == float('inf'):\n",
        "        return 0.0  # If no path is found\n",
        "\n",
        "    similarity = 1 / (1 + min_distance)\n",
        "    return similarity\n",
        "\n",
        "# Testing the similarity between two words\n",
        "print(\"Similarity between GEOMETRY and MATHEMATICS is: \",get_dist('geometry', 'mathematics'))\n",
        "print(\"Similarity between LAPTOP and COMPUTER is:\",get_dist('laptop','computer'))\n",
        "print(\"Similarity between SEA and OCEAN is: \",get_dist('sea','ocean'))\n",
        "print(\"Similarity between CAT and DOG is: \",get_dist('cat','dog'))\n",
        ""
      ]
    },
    {
      "cell_type": "markdown",
      "id": "3426121d",
      "metadata": {
        "id": "3426121d"
      },
      "source": [
        "### Task 2: Lesk algorithm\n",
        "\n",
        "In this task we want to implement a simple version of the Lesk algorithm, a thesaurus-based method for word sense disambiguation. Given a target word $w$ and a context, the algorithm finds the word sense that is most fitting in the context. To achieve this, the Lesk algorithm computes the number of overlapping words between the context sentence and the definitions of the WordNet synsets, associated with $w$.\n",
        "\n",
        "Write a function ``lesk`` that takes a word and a context string (e.g. a sentence) and returns the most fitting sense from the synsets associated with the word and the corresponding context overlap. The most fitting sense is the one whose definition shares the most words with the context string. Before matching tokens, make sure to\n",
        "\n",
        "* only include valid tokens (cf. HA 1, task 2a)\n",
        "* remove stopwords\n",
        "* only match stems of words (e.g. consider the ``PorterStemmer`` from ``nltk``)\n",
        "\n",
        "When computing the context overlap, count each stemmed word only once, even if they occur multiple times. If there is no fitting synset, i.e. the context overlap between the context and the synset definitions is 0, return None instead.\n",
        "\n",
        "Use the signature in the cell below."
      ]
    },
    {
      "cell_type": "code",
      "execution_count": 20,
      "id": "055d9147",
      "metadata": {
        "id": "055d9147"
      },
      "outputs": [],
      "source": [
        "# HA 1, task 2a)\n",
        "from nltk.corpus.reader.util import StreamBackedCorpusView\n",
        "from nltk.corpus import stopwords\n",
        "import re\n",
        "import string\n",
        "from nltk.stem import PorterStemmer\n",
        "\n",
        "\n",
        "ps = PorterStemmer()\n",
        "\n",
        "def get_valid_tokens(tokens: Union[List[str], StreamBackedCorpusView], remove_stopwords: bool=False): #-> List[str]:\n",
        "    \"\"\"\n",
        "    :param tokens: list of tokens that should be cleaned\n",
        "    :param remove_stopwords: bool indicating if stopwords should be removed\n",
        "                             False by default\n",
        "    :return: list of valid tokens\n",
        "    \"\"\"\n",
        "    valid = []\n",
        "    punct = string.punctuation\n",
        "    stop = stopwords.words('english')\n",
        "    digit = re.compile(r\"\\d+\")\n",
        "\n",
        "    for t in tokens:\n",
        "        if t in punct:\n",
        "            continue\n",
        "        if remove_stopwords and t.lower() in stop:\n",
        "            continue\n",
        "        if re.fullmatch(digit, t):\n",
        "            continue\n",
        "        valid.append(t.lower())\n",
        "    return valid"
      ]
    },
    {
      "cell_type": "code",
      "execution_count": 21,
      "id": "054adffc",
      "metadata": {
        "id": "054adffc"
      },
      "outputs": [],
      "source": [
        "def lesk(word: str, context: str): #-> (Synset, int):\n",
        "    '''\n",
        "    Compute the most probable sense of a word in the given context.\n",
        "    :param word: ambiguous word\n",
        "    :param context: context in which the word appears\n",
        "    :returns:\n",
        "        - synset with the most likely word sense\n",
        "        - context overlap of synset and context\n",
        "    '''\n",
        "    # your code here\n",
        "    max_overlaps = 0; lesk_sense = None\n",
        "    context_sentence = context.split()\n",
        "    for ss in wn.synsets(word):\n",
        "       lesk_dictionary = []\n",
        "\n",
        "\n",
        "       lesk_dictionary+= ss.definition().split() # This Includes definitions of the word.\n",
        "\n",
        "\n",
        "       lesk_dictionary = [ps.stem(i) for i in lesk_dictionary]  # getting the stem words only for both word and the sentence.\n",
        "       context_sentence = [ps.stem(i) for i in context_sentence]\n",
        "\n",
        "       overlaps = set(lesk_dictionary).intersection(context_sentence)  # looking for the overlaps between the context sentence and our definitions of the word.\n",
        "\n",
        "       if len(overlaps) > max_overlaps:\n",
        "            lesk_sense = ss\n",
        "            max_overlaps = len(overlaps)\n",
        "\n",
        "    if max_overlaps ==0:\n",
        "      return 0\n",
        "    else:\n",
        "      return lesk_sense.definition(), max_overlaps\n",
        "\n",
        "\n"
      ]
    },
    {
      "cell_type": "code",
      "source": [
        "lesk('bank','I went to the bank to deposit my money.') # Testing the Lesk function"
      ],
      "metadata": {
        "colab": {
          "base_uri": "https://localhost:8080/"
        },
        "id": "B_0vEkSaOBOZ",
        "outputId": "993fa2c5-09ad-4219-be6d-8d6192db1243"
      },
      "id": "B_0vEkSaOBOZ",
      "execution_count": 22,
      "outputs": [
        {
          "output_type": "execute_result",
          "data": {
            "text/plain": [
              "('a financial institution that accepts deposits and channels the money into lending activities',\n",
              " 2)"
            ]
          },
          "metadata": {},
          "execution_count": 22
        }
      ]
    },
    {
      "cell_type": "markdown",
      "id": "1f37f1ef",
      "metadata": {
        "id": "1f37f1ef"
      },
      "source": [
        "### Task 3: Minimum cost string alignment\n",
        "\n",
        "In this tak we want to compute an alignment between two strings, that has minimum edit distance.\n",
        "\n",
        "Implement a function that takes two strings and their edit distance matrix and returns a minimum cost alignment. You can assume that the edit distance matrix is provided by the function that you implemented in exercise 3, task 2, with a substitution cost of 2.\n",
        "\n",
        "A minimum cost alignment consists of two strings that, printed below each other comprise the alignment, where insertions and deletions are represented by a ``*``. Use the function signature in the cell below.\n",
        "\n",
        "__Example:__ _Given the input strings_ `\"INTENTION\"` _and_ `\"EXECUTION\"` _and the corresponding edit distance matrix:_\n",
        "\n",
        "```\n",
        "[[ 0  1  2  3  4  5  6  7  8  9]\n",
        " [ 1  2  3  4  5  6  7  6  7  8]\n",
        " [ 2  3  4  5  6  7  8  7  8  7]\n",
        " [ 3  4  5  6  7  8  7  8  9  8]\n",
        " [ 4  3  4  5  6  7  8  9 10  9]\n",
        " [ 5  4  5  6  7  8  9 10 11 10]\n",
        " [ 6  5  6  7  8  9  8  9 10 11]\n",
        " [ 7  6  7  8  9 10  9  8  9 10]\n",
        " [ 8  7  8  9 10 11 10  9  8  9]\n",
        " [ 9  8  9 10 11 12 11 10  9  8]]\n",
        "```\n",
        "  \n",
        "_your function should return the two strings_ ``INTE***NTION`` _and_ ``***EXECUTION`` _that represent the alignment, when printed below each other:_\n",
        "\n",
        " ``INTE***NTION``    \n",
        " ``***EXECUTION``\n",
        "\n",
        " __Remark:__ _The alignment in the example above is not the only solution. In this task all alignments with minimum edit distance are accepted._\n"
      ]
    },
    {
      "cell_type": "code",
      "source": [
        "def get_alignment(str1: str, str2: str, D: NDArray[NDArray[int]]) -> tuple[str, str]:\n",
        "    '''\n",
        "    :param str1: first string for alignment\n",
        "    :param str2: second string for alignment\n",
        "    :param D: edit distance matrix of str1 and str2\n",
        "    :returns: tuple of strings that indicate the alignment of the input strings\n",
        "    '''\n",
        "    i, j = len(str1), len(str2)\n",
        "    final_str1 = \"\"\n",
        "    final_str2 = \"\"\n",
        "\n",
        "    # Tracing back from the bottom-right corner to the top-left\n",
        "\n",
        "    while i > 0 or j > 0:\n",
        "        min_index = np.argmin([D[i-1, j], D[i, j-1], D[i-1, j-1]])\n",
        "\n",
        "        if min_index == 0:\n",
        "            final_str1 = final_str1 + str1[i-1]\n",
        "            final_str2 = final_str2 + '*'\n",
        "            i -= 1\n",
        "        elif min_index == 1:\n",
        "            final_str1 = final_str1 + '*'\n",
        "            final_str2 = final_str2 + str2[j-1]\n",
        "            j -= 1\n",
        "        else:\n",
        "            final_str1 = final_str1 + str1[i-1]\n",
        "            final_str2 = final_str2 + str2[j-1]\n",
        "            i -= 1\n",
        "            j -= 1\n",
        "\n",
        "    return final_str1[::-1], final_str2[::-1]"
      ],
      "metadata": {
        "id": "2_Xa9e-YX74G"
      },
      "id": "2_Xa9e-YX74G",
      "execution_count": 23,
      "outputs": []
    }
  ],
  "metadata": {
    "kernelspec": {
      "display_name": "Python 3 (ipykernel)",
      "language": "python",
      "name": "python3"
    },
    "language_info": {
      "codemirror_mode": {
        "name": "ipython",
        "version": 3
      },
      "file_extension": ".py",
      "mimetype": "text/x-python",
      "name": "python",
      "nbconvert_exporter": "python",
      "pygments_lexer": "ipython3",
      "version": "3.11.9"
    },
    "colab": {
      "provenance": []
    }
  },
  "nbformat": 4,
  "nbformat_minor": 5
}